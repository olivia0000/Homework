{
 "cells": [
  {
   "cell_type": "code",
   "execution_count": 11,
   "id": "828ed51c",
   "metadata": {},
   "outputs": [
    {
     "name": "stdout",
     "output_type": "stream",
     "text": [
      "(['strawberry', 'pear', 'peach', 'grape'], ['cabbage', 'spanach', 'eggplant'])\n"
     ]
    }
   ],
   "source": [
    "fruits = ['strawberry','pear','peach','grape']\n",
    "vegetables = ['cabbage','spanach','eggplant']\n",
    "t = fruits , vegetables\n",
    "print(t)"
   ]
  },
  {
   "cell_type": "code",
   "execution_count": 12,
   "id": "a6c68583",
   "metadata": {},
   "outputs": [
    {
     "name": "stdout",
     "output_type": "stream",
     "text": [
      "(['strawberry', 'pear', 'peach', 'grape'], ['cabbage', 'spanach', 'eggplant'])\n"
     ]
    }
   ],
   "source": [
    "fruits_vegetables = t\n",
    "print(fruits_vegetables)"
   ]
  },
  {
   "cell_type": "code",
   "execution_count": 3,
   "id": "0ea3550a",
   "metadata": {},
   "outputs": [
    {
     "name": "stdout",
     "output_type": "stream",
     "text": [
      "7\n"
     ]
    }
   ],
   "source": [
    "number = len(fruits)+len(vegetables)\n",
    "print(number)"
   ]
  },
  {
   "cell_type": "code",
   "execution_count": 15,
   "id": "d7765ce7",
   "metadata": {},
   "outputs": [
    {
     "name": "stdout",
     "output_type": "stream",
     "text": [
      "(['strawberry', 'strawberry', 'peach', 'grape'], ['cabbage', 'spanach', 'eggplant'])\n",
      "('mushrooms', 'flammulina velutipes', 'coffee', 'cola', 'tea', (['strawberry', 'strawberry', 'peach', 'grape'], ['cabbage', 'spanach', 'eggplant']))\n"
     ]
    }
   ],
   "source": [
    "fruits_vegetables[0][1] = 'strawberry'\n",
    "fruits_vegetables[1][1] = 'spanach'\n",
    "food_tuple = 'mushrooms','flammulina velutipes','coffee','cola','tea',fruits_vegetables\n",
    "print(fruits_vegetables)\n",
    "print(food_tuple)"
   ]
  },
  {
   "cell_type": "code",
   "execution_count": 16,
   "id": "2d723169",
   "metadata": {},
   "outputs": [
    {
     "name": "stdout",
     "output_type": "stream",
     "text": [
      "mushroom :  ('mushrooms', 'flammulina velutipes')\n",
      "berage :  ('coffee', 'cola', 'tea')\n",
      "fruits_vegetables :  (['strawberry', 'strawberry', 'peach', 'grape'], ['cabbage', 'spanach', 'eggplant'])\n"
     ]
    }
   ],
   "source": [
    "mushroom=food_tuple[0],food_tuple[1]\n",
    "beverage=food_tuple[2],food_tuple[3],food_tuple[4]\n",
    "print('mushroom : ',mushroom)\n",
    "print('berage : ',beverage)\n",
    "print('fruits_vegetables : ',food_tuple[-1])"
   ]
  },
  {
   "cell_type": "code",
   "execution_count": 17,
   "id": "83b2fc92",
   "metadata": {},
   "outputs": [
    {
     "name": "stdout",
     "output_type": "stream",
     "text": [
      "['mushrooms', 'flammulina velutipes', 'coffee', 'cola', 'tea', (['strawberry', 'strawberry', 'peach', 'grape'], ['cabbage', 'spanach', 'eggplant'])] <class 'list'>\n"
     ]
    }
   ],
   "source": [
    "food_list = list(food_tuple)\n",
    "print(food_list, type(food_list))"
   ]
  },
  {
   "cell_type": "code",
   "execution_count": 7,
   "id": "0fbc8c04",
   "metadata": {},
   "outputs": [
    {
     "name": "stdout",
     "output_type": "stream",
     "text": [
      "['fragrant mushroom', 'Oyster mushroom', 'cola', 'milk', (['apple', 'cherry', 'orange', 'watermelon'], ['potato', 'tomato', 'lettuce'])]\n"
     ]
    }
   ],
   "source": [
    "del food_list[2]\n",
    "print(food_list)"
   ]
  },
  {
   "cell_type": "code",
   "execution_count": 8,
   "id": "dc583791",
   "metadata": {},
   "outputs": [
    {
     "name": "stdout",
     "output_type": "stream",
     "text": [
      "['fragrant mushroom', 'Oyster mushroom', 'cola']\n",
      "['cola', 'milk', (['apple', 'cherry', 'orange', 'watermelon'], ['potato', 'tomato', 'lettuce'])]\n"
     ]
    }
   ],
   "source": [
    "print(food_list[0:3])\n",
    "print(food_list[-3:])"
   ]
  },
  {
   "cell_type": "code",
   "execution_count": 18,
   "id": "2ae6e858",
   "metadata": {},
   "outputs": [
    {
     "ename": "NameError",
     "evalue": "name 'food_tuple' is not defined",
     "output_type": "error",
     "traceback": [
      "\u001b[1;31m---------------------------------------------------------------------------\u001b[0m",
      "\u001b[1;31mNameError\u001b[0m                                 Traceback (most recent call last)",
      "\u001b[1;32m<ipython-input-18-2a56d3f7eb2c>\u001b[0m in \u001b[0;36m<module>\u001b[1;34m\u001b[0m\n\u001b[0;32m      1\u001b[0m \u001b[1;32mdel\u001b[0m \u001b[0mfood_tuple\u001b[0m\u001b[1;33m\u001b[0m\u001b[1;33m\u001b[0m\u001b[0m\n\u001b[1;32m----> 2\u001b[1;33m \u001b[0mprint\u001b[0m\u001b[1;33m(\u001b[0m\u001b[0mfood_tuple\u001b[0m\u001b[1;33m)\u001b[0m\u001b[1;33m\u001b[0m\u001b[1;33m\u001b[0m\u001b[0m\n\u001b[0m",
      "\u001b[1;31mNameError\u001b[0m: name 'food_tuple' is not defined"
     ]
    }
   ],
   "source": [
    "del food_tuple\n",
    "print(food_tuple)"
   ]
  },
  {
   "cell_type": "code",
   "execution_count": 19,
   "id": "7f45788e",
   "metadata": {},
   "outputs": [
    {
     "name": "stdout",
     "output_type": "stream",
     "text": [
      "False\n",
      "True\n"
     ]
    }
   ],
   "source": [
    "asian_countries = ('India','China','Singapore','Thailand','Indonesia')\n",
    "print('Finland' in asian_countries)\n",
    "print('India' in asian_countries)"
   ]
  },
  {
   "cell_type": "code",
   "execution_count": null,
   "id": "be9df9b1",
   "metadata": {},
   "outputs": [],
   "source": []
  },
  {
   "cell_type": "code",
   "execution_count": null,
   "id": "76345a5e",
   "metadata": {},
   "outputs": [],
   "source": []
  }
 ],
 "metadata": {
  "kernelspec": {
   "display_name": "Python 3",
   "language": "python",
   "name": "python3"
  },
  "language_info": {
   "codemirror_mode": {
    "name": "ipython",
    "version": 3
   },
   "file_extension": ".py",
   "mimetype": "text/x-python",
   "name": "python",
   "nbconvert_exporter": "python",
   "pygments_lexer": "ipython3",
   "version": "3.8.8"
  }
 },
 "nbformat": 4,
 "nbformat_minor": 5
}
