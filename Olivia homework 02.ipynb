{
 "cells": [
  {
   "cell_type": "code",
   "execution_count": 27,
   "id": "cdb0d6da",
   "metadata": {},
   "outputs": [
    {
     "name": "stdout",
     "output_type": "stream",
     "text": [
      "25 is of type <class 'int'>\n",
      "165.3 is of type <class 'float'>\n",
      "(7+5j) is of type <class 'complex'>\n"
     ]
    }
   ],
   "source": [
    "age = 25\n",
    "height = 165.3\n",
    "complex_num = 7+5j\n",
    "print(age, 'is of type', type(age))\n",
    "print(height, 'is of type', type(height))\n",
    "print(complex_num, 'is of type', type(complex_num))"
   ]
  },
  {
   "cell_type": "code",
   "execution_count": 2,
   "id": "4e04f4c9",
   "metadata": {},
   "outputs": [
    {
     "name": "stdout",
     "output_type": "stream",
     "text": [
      "输入base:20\n",
      "输入height:10\n",
      "The area of the triangle is 100.0\n"
     ]
    }
   ],
   "source": [
    "b = int(input('输入base:'))\n",
    "h = int(input('输入height:'))\n",
    "area = 0.5*b*h\n",
    "print('The area of the triangle is', area)"
   ]
  },
  {
   "cell_type": "code",
   "execution_count": 4,
   "id": "106cdcb8",
   "metadata": {},
   "outputs": [
    {
     "name": "stdout",
     "output_type": "stream",
     "text": [
      "输入side a:5\n",
      "输入side b:4\n",
      "输入side c:3\n",
      "The perimeter of the triangle is 12\n"
     ]
    }
   ],
   "source": [
    "a = int(input('输入side a:'))\n",
    "b = int(input('输入side b:'))\n",
    "c = int(input('输入side c:'))\n",
    "perimeter = a + b + c\n",
    "print('The perimeter of the triangle is', perimeter)"
   ]
  },
  {
   "cell_type": "code",
   "execution_count": 5,
   "id": "e1f7459a",
   "metadata": {},
   "outputs": [
    {
     "name": "stdout",
     "output_type": "stream",
     "text": [
      "输入length:14\n",
      "输入width:12\n",
      "The area of the rectangle is 168\n",
      "The perimeter of the rectangle is 52\n"
     ]
    }
   ],
   "source": [
    "l = int(input('输入length:'))\n",
    "w = int(input('输入width:'))\n",
    "area = l*w\n",
    "perimeter = 2*(l+w)\n",
    "print('The area of the rectangle is', area)\n",
    "print('The perimeter of the rectangle is', perimeter)"
   ]
  },
  {
   "cell_type": "code",
   "execution_count": 6,
   "id": "962cd90e",
   "metadata": {},
   "outputs": [
    {
     "name": "stdout",
     "output_type": "stream",
     "text": [
      "输入radius:7\n",
      "The area of the rectangle is 153.86\n",
      "The circumference of the rectangle is 43.96\n"
     ]
    }
   ],
   "source": [
    "pi=3.14\n",
    "r = int(input('输入radius:'))\n",
    "area = pi*r**2\n",
    "c = 2*pi*r\n",
    "print('The area of the rectangle is', area)\n",
    "print('The circumference of the rectangle is', c)"
   ]
  },
  {
   "cell_type": "code",
   "execution_count": 7,
   "id": "7e702be7",
   "metadata": {},
   "outputs": [
    {
     "name": "stdout",
     "output_type": "stream",
     "text": [
      "the y-intercept is 2\n",
      "the x-intercept is 1.0\n"
     ]
    }
   ],
   "source": [
    "x=0\n",
    "y=2*x-2\n",
    "print('the y-intercept is', -y)\n",
    "y=0\n",
    "x=(y+2)/2\n",
    "print('the x-intercept is', x)"
   ]
  },
  {
   "cell_type": "code",
   "execution_count": 8,
   "id": "3a8b1c1f",
   "metadata": {},
   "outputs": [
    {
     "name": "stdout",
     "output_type": "stream",
     "text": [
      "1 0 2 2\n",
      "the slope is 2.0\n"
     ]
    }
   ],
   "source": [
    "x1=x=1\n",
    "y1=2*x-2\n",
    "x2=x=2\n",
    "y2=2*x-2\n",
    "print(x1,y1,x2,y2)\n",
    "k1=(y2-y1)/(x2-x1)\n",
    "print('the slope is', k1)"
   ]
  },
  {
   "cell_type": "code",
   "execution_count": 9,
   "id": "b7d5950c",
   "metadata": {},
   "outputs": [
    {
     "name": "stdout",
     "output_type": "stream",
     "text": [
      "the slope is 2.0\n",
      "Euclidean distance is 8.94427190999916\n"
     ]
    }
   ],
   "source": [
    "x1=2\n",
    "y1=2\n",
    "x2=6\n",
    "y2=10\n",
    "k2=(y2-y1)/(x2-x1)\n",
    "print('the slope is', k2)\n",
    "import numpy as np\n",
    "d = np.sqrt((x1-x2)**2+(y1-y2)**2)\n",
    "print('Euclidean distance is', d)"
   ]
  },
  {
   "cell_type": "code",
   "execution_count": 10,
   "id": "39864c9a",
   "metadata": {},
   "outputs": [
    {
     "name": "stdout",
     "output_type": "stream",
     "text": [
      "False\n",
      "True\n",
      "False\n"
     ]
    }
   ],
   "source": [
    "print(k1>k2)\n",
    "print(k1==k2)\n",
    "print(k1<k2)"
   ]
  },
  {
   "cell_type": "code",
   "execution_count": 11,
   "id": "e4ee1689",
   "metadata": {},
   "outputs": [
    {
     "name": "stdout",
     "output_type": "stream",
     "text": [
      "x的值：6\n",
      "y = 81\n"
     ]
    }
   ],
   "source": [
    "x=int(input('x的值：'))\n",
    "y=x**2+6*x+9\n",
    "print('y =', y)"
   ]
  },
  {
   "cell_type": "code",
   "execution_count": 12,
   "id": "b49edf0f",
   "metadata": {},
   "outputs": [
    {
     "name": "stdout",
     "output_type": "stream",
     "text": [
      "x的值：-3\n",
      "y = 0\n"
     ]
    }
   ],
   "source": [
    "x=int(input('x的值：'))\n",
    "y=x**2+6*x+9\n",
    "print('y =', y)"
   ]
  },
  {
   "cell_type": "code",
   "execution_count": 13,
   "id": "7bca692d",
   "metadata": {},
   "outputs": [
    {
     "name": "stdout",
     "output_type": "stream",
     "text": [
      "the length of python: 6\n",
      "the length of datascience: 11\n",
      "True\n",
      "False\n",
      "False\n"
     ]
    }
   ],
   "source": [
    "print('the length of python:', len('python'))\n",
    "print('the length of datascience:', len('datascience'))\n",
    "print(len('python')<len('datascience'))\n",
    "print(len('python')==len('datascience'))\n",
    "print(len('python')>len('datscience'))"
   ]
  },
  {
   "cell_type": "code",
   "execution_count": 14,
   "id": "5c881075",
   "metadata": {},
   "outputs": [
    {
     "name": "stdout",
     "output_type": "stream",
     "text": [
      "on in python and cannon True\n"
     ]
    }
   ],
   "source": [
    "print('on in python and cannon', 'on' in 'python' and 'on' in 'cannon')"
   ]
  },
  {
   "cell_type": "code",
   "execution_count": 15,
   "id": "372db0c6",
   "metadata": {},
   "outputs": [
    {
     "name": "stdout",
     "output_type": "stream",
     "text": [
      "True\n"
     ]
    }
   ],
   "source": [
    "print('jargon' in 'I hope this course is not full of jargon')"
   ]
  },
  {
   "cell_type": "code",
   "execution_count": 16,
   "id": "130c04a9",
   "metadata": {},
   "outputs": [
    {
     "name": "stdout",
     "output_type": "stream",
     "text": [
      "False\n"
     ]
    }
   ],
   "source": [
    "print('on' in 'python' and 'on' in 'cannon'== False)"
   ]
  },
  {
   "cell_type": "code",
   "execution_count": 17,
   "id": "d519c60b",
   "metadata": {},
   "outputs": [
    {
     "name": "stdout",
     "output_type": "stream",
     "text": [
      "length : 6 <class 'int'>\n",
      "float : 6.0 <class 'float'>\n",
      "string : 6 <class 'str'>\n"
     ]
    }
   ],
   "source": [
    "print('length :', len('python'), type(len('python')))\n",
    "print('float :', float(len('python')), type(float(len('python'))))\n",
    "print('string :', str(len('python')), type(str(len('python'))))"
   ]
  },
  {
   "cell_type": "code",
   "execution_count": 18,
   "id": "f41ba27e",
   "metadata": {},
   "outputs": [
    {
     "name": "stdout",
     "output_type": "stream",
     "text": [
      "输入一个数：8\n",
      "偶数\n"
     ]
    }
   ],
   "source": [
    "while True:\n",
    "    num=int(input('输入一个数：'))\n",
    "    if num%2==0:\n",
    "        print('偶数')\n",
    "    else:\n",
    "        print('奇数')\n",
    "    break"
   ]
  },
  {
   "cell_type": "code",
   "execution_count": 19,
   "id": "9cf5eb45",
   "metadata": {},
   "outputs": [
    {
     "name": "stdout",
     "output_type": "stream",
     "text": [
      "False\n"
     ]
    }
   ],
   "source": [
    "print(7/3==int(2.7))"
   ]
  },
  {
   "cell_type": "code",
   "execution_count": 20,
   "id": "3a26fe18",
   "metadata": {},
   "outputs": [
    {
     "name": "stdout",
     "output_type": "stream",
     "text": [
      "False\n"
     ]
    }
   ],
   "source": [
    "print(type('10')==type(10))"
   ]
  },
  {
   "cell_type": "code",
   "execution_count": 21,
   "id": "6681ea34",
   "metadata": {},
   "outputs": [
    {
     "name": "stdout",
     "output_type": "stream",
     "text": [
      "False\n"
     ]
    }
   ],
   "source": [
    "print(int(9.6)==10)"
   ]
  },
  {
   "cell_type": "code",
   "execution_count": 22,
   "id": "ea50e14c",
   "metadata": {},
   "outputs": [
    {
     "name": "stdout",
     "output_type": "stream",
     "text": [
      "输入hours:21\n",
      "输入rate per hour:12\n",
      "Your weekly earning is 252\n"
     ]
    }
   ],
   "source": [
    "hours = int(input('输入hours:'))\n",
    "rate_per_hour = int(input('输入rate per hour:'))\n",
    "weekly_earning = hours*rate_per_hour\n",
    "print('Your weekly earning is', weekly_earning)"
   ]
  },
  {
   "cell_type": "code",
   "execution_count": 23,
   "id": "a627ebe4",
   "metadata": {},
   "outputs": [
    {
     "name": "stdout",
     "output_type": "stream",
     "text": [
      "输入number of years you have lived:18\n",
      "You have lived for 567648000 seconds\n"
     ]
    }
   ],
   "source": [
    "years = int(input('输入number of years you have lived:'))\n",
    "seconds = 31536000*years\n",
    "print('You have lived for', seconds, 'seconds')"
   ]
  },
  {
   "cell_type": "code",
   "execution_count": 24,
   "id": "3667ace8",
   "metadata": {},
   "outputs": [
    {
     "name": "stdout",
     "output_type": "stream",
     "text": [
      "1 2 3 4 5\n",
      "2 4 6 8 10\n",
      "3 6 9 12 15\n",
      "4 8 12 16 20\n",
      "5 10 15 20 25\n"
     ]
    }
   ],
   "source": [
    "a,b,c,d,e=1,2,3,4,5\n",
    "print(a,b,c,d,e)\n",
    "print(2*a,2*b,2*c,2*d,2*e)\n",
    "print(3*a,3*b,3*c,3*d,3*e)\n",
    "print(4*a,4*b,4*c,4*d,4*e)\n",
    "print(5*a,5*b,5*c,5*d,5*e)"
   ]
  },
  {
   "cell_type": "code",
   "execution_count": null,
   "id": "4622044d",
   "metadata": {},
   "outputs": [],
   "source": []
  }
 ],
 "metadata": {
  "kernelspec": {
   "display_name": "Python 3",
   "language": "python",
   "name": "python3"
  },
  "language_info": {
   "codemirror_mode": {
    "name": "ipython",
    "version": 3
   },
   "file_extension": ".py",
   "mimetype": "text/x-python",
   "name": "python",
   "nbconvert_exporter": "python",
   "pygments_lexer": "ipython3",
   "version": "3.8.8"
  }
 },
 "nbformat": 4,
 "nbformat_minor": 5
}
