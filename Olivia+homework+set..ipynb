{
 "cells": [
  {
   "cell_type": "code",
   "execution_count": 19,
   "id": "068eb7af",
   "metadata": {},
   "outputs": [
    {
     "name": "stdout",
     "output_type": "stream",
     "text": [
      "mix_fruits =  {'Guava', 'Mango', 'Fig', 'Pear', 'Apple', 'Banana', 'Orange'} <class 'set'>\n",
      "A =  {19, 20, 22, 24, 25, 26} <class 'set'>\n",
      "B =  {19, 20, 22, 24, 25, 26, 27, 28} <class 'set'>\n",
      "num =  [22, 19, 24, 25, 26, 24, 25, 24] <class 'list'>\n"
     ]
    }
   ],
   "source": [
    "mix_fruits = {'Guava', 'Pear', 'Mango', 'Apple', 'Fig', 'Orange', 'Banana'}\n",
    "A = {19, 22, 24, 20, 25, 26}\n",
    "B = {19, 22, 20, 25, 26, 24, 28, 27}\n",
    "num = [22, 19, 24, 25, 26, 24, 25, 24]\n",
    "print('mix_fruits = ', mix_fruits, type(mix_fruits))\n",
    "print('A = ', A, type(A))\n",
    "print('B = ', B, type(B))\n",
    "print('num = ', num, type(num))"
   ]
  },
  {
   "cell_type": "code",
   "execution_count": 20,
   "id": "c8e65375",
   "metadata": {},
   "outputs": [
    {
     "name": "stdout",
     "output_type": "stream",
     "text": [
      "7\n"
     ]
    }
   ],
   "source": [
    "print(len(mix_fruits))"
   ]
  },
  {
   "cell_type": "code",
   "execution_count": 33,
   "id": "99c9e224",
   "metadata": {},
   "outputs": [
    {
     "name": "stdout",
     "output_type": "stream",
     "text": [
      "{'Kiwi', 'Guava', 'Mango', 'Pear', 'Apple', 'Durian', 'Banana', 'Orange'}\n"
     ]
    }
   ],
   "source": [
    "mix_fruits.add('Kiwi')\n",
    "print(mix_fruits)"
   ]
  },
  {
   "cell_type": "code",
   "execution_count": 34,
   "id": "1a85b737",
   "metadata": {},
   "outputs": [
    {
     "name": "stdout",
     "output_type": "stream",
     "text": [
      "{'Kiwi', 'Guava', 'Mango', 'Peach', 'Pear', 'Lemon', 'Apple', 'Durian', 'Banana', 'Orange'}\n"
     ]
    }
   ],
   "source": [
    "mix_fruits.update(['Peach', 'Durian', 'Lemon'])\n",
    "print(mix_fruits)"
   ]
  },
  {
   "cell_type": "code",
   "execution_count": 35,
   "id": "badddaec",
   "metadata": {},
   "outputs": [
    {
     "name": "stdout",
     "output_type": "stream",
     "text": [
      "{'Kiwi', 'Guava', 'Mango', 'Pear', 'Lemon', 'Apple', 'Durian', 'Banana', 'Orange'}\n"
     ]
    }
   ],
   "source": [
    "mix_fruits.remove('Peach')\n",
    "print(mix_fruits)"
   ]
  },
  {
   "cell_type": "code",
   "execution_count": 36,
   "id": "0ed1297a",
   "metadata": {},
   "outputs": [
    {
     "name": "stdout",
     "output_type": "stream",
     "text": [
      "{'Kiwi', 'Guava', 'Mango', 'Pear', 'Lemon', 'Apple', 'Durian', 'Banana', 'Orange'}\n"
     ]
    },
    {
     "ename": "KeyError",
     "evalue": "'Peach'",
     "output_type": "error",
     "traceback": [
      "\u001b[1;31m---------------------------------------------------------------------------\u001b[0m",
      "\u001b[1;31mKeyError\u001b[0m                                  Traceback (most recent call last)",
      "\u001b[1;32m<ipython-input-36-0d7591375795>\u001b[0m in \u001b[0;36m<module>\u001b[1;34m\u001b[0m\n\u001b[0;32m      1\u001b[0m \u001b[0mmix_fruits\u001b[0m\u001b[1;33m.\u001b[0m\u001b[0mdiscard\u001b[0m\u001b[1;33m(\u001b[0m\u001b[1;34m'Peach'\u001b[0m\u001b[1;33m)\u001b[0m\u001b[1;33m\u001b[0m\u001b[1;33m\u001b[0m\u001b[0m\n\u001b[0;32m      2\u001b[0m \u001b[0mprint\u001b[0m\u001b[1;33m(\u001b[0m\u001b[0mmix_fruits\u001b[0m\u001b[1;33m)\u001b[0m\u001b[1;33m\u001b[0m\u001b[1;33m\u001b[0m\u001b[0m\n\u001b[1;32m----> 3\u001b[1;33m \u001b[0mmix_fruits\u001b[0m\u001b[1;33m.\u001b[0m\u001b[0mremove\u001b[0m\u001b[1;33m(\u001b[0m\u001b[1;34m'Peach'\u001b[0m\u001b[1;33m)\u001b[0m\u001b[1;33m\u001b[0m\u001b[1;33m\u001b[0m\u001b[0m\n\u001b[0m\u001b[0;32m      4\u001b[0m \u001b[0mprint\u001b[0m\u001b[1;33m(\u001b[0m\u001b[0mmix_fruits\u001b[0m\u001b[1;33m)\u001b[0m\u001b[1;33m\u001b[0m\u001b[1;33m\u001b[0m\u001b[0m\n",
      "\u001b[1;31mKeyError\u001b[0m: 'Peach'"
     ]
    }
   ],
   "source": [
    "mix_fruits.discard('Peach')\n",
    "print(mix_fruits)\n",
    "mix_fruits.remove('Peach')\n",
    "print(mix_fruits)"
   ]
  },
  {
   "cell_type": "code",
   "execution_count": 8,
   "id": "6ba10dcd",
   "metadata": {},
   "outputs": [
    {
     "data": {
      "text/plain": [
       "{19, 20, 22, 24, 25, 26, 27, 28}"
      ]
     },
     "execution_count": 8,
     "metadata": {},
     "output_type": "execute_result"
    }
   ],
   "source": [
    "A = {19, 22, 24, 20, 25, 26}\n",
    "B = {19, 22, 20, 25, 26, 24, 28, 27}\n",
    "A.union(B)"
   ]
  },
  {
   "cell_type": "code",
   "execution_count": 9,
   "id": "d95d1367",
   "metadata": {},
   "outputs": [
    {
     "data": {
      "text/plain": [
       "{19, 20, 22, 24, 25, 26}"
      ]
     },
     "execution_count": 9,
     "metadata": {},
     "output_type": "execute_result"
    }
   ],
   "source": [
    "A.intersection(B)"
   ]
  },
  {
   "cell_type": "code",
   "execution_count": 10,
   "id": "fb1753d2",
   "metadata": {},
   "outputs": [
    {
     "data": {
      "text/plain": [
       "True"
      ]
     },
     "execution_count": 10,
     "metadata": {},
     "output_type": "execute_result"
    }
   ],
   "source": [
    "A.issubset(B)"
   ]
  },
  {
   "cell_type": "code",
   "execution_count": 11,
   "id": "51eff3d8",
   "metadata": {},
   "outputs": [
    {
     "data": {
      "text/plain": [
       "False"
      ]
     },
     "execution_count": 11,
     "metadata": {},
     "output_type": "execute_result"
    }
   ],
   "source": [
    "A.isdisjoint(B)"
   ]
  },
  {
   "cell_type": "code",
   "execution_count": 12,
   "id": "e91ee36c",
   "metadata": {},
   "outputs": [
    {
     "data": {
      "text/plain": [
       "{19, 20, 22, 24, 25, 26, 27, 28}"
      ]
     },
     "execution_count": 12,
     "metadata": {},
     "output_type": "execute_result"
    }
   ],
   "source": [
    "A.union(B)\n",
    "B.union(A)"
   ]
  },
  {
   "cell_type": "code",
   "execution_count": 13,
   "id": "a85153a6",
   "metadata": {},
   "outputs": [
    {
     "data": {
      "text/plain": [
       "{27, 28}"
      ]
     },
     "execution_count": 13,
     "metadata": {},
     "output_type": "execute_result"
    }
   ],
   "source": [
    "A.symmetric_difference(B)"
   ]
  },
  {
   "cell_type": "code",
   "execution_count": 14,
   "id": "6990aeb9",
   "metadata": {},
   "outputs": [
    {
     "name": "stdout",
     "output_type": "stream",
     "text": [
      "set()\n",
      "set()\n"
     ]
    }
   ],
   "source": [
    "A.clear()\n",
    "B.clear()\n",
    "print(A)\n",
    "print(B)"
   ]
  },
  {
   "cell_type": "code",
   "execution_count": 15,
   "id": "807a0426",
   "metadata": {},
   "outputs": [
    {
     "name": "stdout",
     "output_type": "stream",
     "text": [
      "{19, 22, 24, 25, 26} <class 'set'>\n"
     ]
    }
   ],
   "source": [
    "num = [22, 19, 24, 25, 26, 24, 25, 24]\n",
    "numset = set(num)\n",
    "print(numset, type(numset))"
   ]
  },
  {
   "cell_type": "code",
   "execution_count": 16,
   "id": "33d17dc8",
   "metadata": {},
   "outputs": [
    {
     "name": "stdout",
     "output_type": "stream",
     "text": [
      "True\n",
      "False\n",
      "False\n"
     ]
    }
   ],
   "source": [
    "print(len(num) > len(numset))\n",
    "print(len(num) < len(numset))\n",
    "print(len(num)==len(numset))"
   ]
  },
  {
   "cell_type": "code",
   "execution_count": 17,
   "id": "576338e6",
   "metadata": {},
   "outputs": [],
   "source": [
    "# The list can be changged, the string, tuple and sets cannot be changged. \n",
    "# The string donot use any brackets, list use [], tuple use (), sets ues{} "
   ]
  },
  {
   "cell_type": "code",
   "execution_count": 18,
   "id": "fd028a8a",
   "metadata": {},
   "outputs": [
    {
     "name": "stdout",
     "output_type": "stream",
     "text": [
      "{'cum', 'am', 'people', 'teacher', 'to', 'inspire', 'a', 'researcher', 'love', 'teach', 'I', 'and'}\n",
      "12\n"
     ]
    }
   ],
   "source": [
    "sentence = 'I am a researcher cum teacher and I love to inspire and teach people';\n",
    "set1 = set(sentence.split())\n",
    "print(set1)\n",
    "print(len(set1))"
   ]
  },
  {
   "cell_type": "code",
   "execution_count": null,
   "id": "63ef0eac",
   "metadata": {},
   "outputs": [],
   "source": []
  }
 ],
 "metadata": {
  "kernelspec": {
   "display_name": "Python 3",
   "language": "python",
   "name": "python3"
  },
  "language_info": {
   "codemirror_mode": {
    "name": "ipython",
    "version": 3
   },
   "file_extension": ".py",
   "mimetype": "text/x-python",
   "name": "python",
   "nbconvert_exporter": "python",
   "pygments_lexer": "ipython3",
   "version": "3.8.8"
  }
 },
 "nbformat": 4,
 "nbformat_minor": 5
}
